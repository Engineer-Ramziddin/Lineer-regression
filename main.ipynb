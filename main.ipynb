{
 "cells": [
  {
   "cell_type": "markdown",
   "metadata": {},
   "source": [
    "1. Kutubxonalarni o‘rnatish\n",
    "\n",
    "Birinchi qadam — kerakli kutubxonalarni o‘rnatish va ulardan foydalanish. Python'da mashhur kutubxonalar: numpy, pandas, matplotlib, va scikit-learn."
   ]
  },
  {
   "cell_type": "code",
   "execution_count": 2,
   "metadata": {},
   "outputs": [
    {
     "name": "stdout",
     "output_type": "stream",
     "text": [
      "Requirement already satisfied: numpy in c:\\users\\ray\\anaconda3\\lib\\site-packages (1.26.4)\n",
      "Requirement already satisfied: pandas in c:\\users\\ray\\anaconda3\\lib\\site-packages (2.2.2)\n",
      "Requirement already satisfied: matplotlib in c:\\users\\ray\\anaconda3\\lib\\site-packages (3.8.4)\n",
      "Requirement already satisfied: scikit-learn in c:\\users\\ray\\anaconda3\\lib\\site-packages (1.4.2)\n",
      "Requirement already satisfied: python-dateutil>=2.8.2 in c:\\users\\ray\\anaconda3\\lib\\site-packages (from pandas) (2.9.0.post0)\n",
      "Requirement already satisfied: pytz>=2020.1 in c:\\users\\ray\\anaconda3\\lib\\site-packages (from pandas) (2024.1)\n",
      "Requirement already satisfied: tzdata>=2022.7 in c:\\users\\ray\\anaconda3\\lib\\site-packages (from pandas) (2023.3)\n",
      "Requirement already satisfied: contourpy>=1.0.1 in c:\\users\\ray\\anaconda3\\lib\\site-packages (from matplotlib) (1.2.0)\n",
      "Requirement already satisfied: cycler>=0.10 in c:\\users\\ray\\anaconda3\\lib\\site-packages (from matplotlib) (0.11.0)\n",
      "Requirement already satisfied: fonttools>=4.22.0 in c:\\users\\ray\\anaconda3\\lib\\site-packages (from matplotlib) (4.51.0)\n",
      "Requirement already satisfied: kiwisolver>=1.3.1 in c:\\users\\ray\\anaconda3\\lib\\site-packages (from matplotlib) (1.4.4)\n",
      "Requirement already satisfied: packaging>=20.0 in c:\\users\\ray\\anaconda3\\lib\\site-packages (from matplotlib) (23.2)\n",
      "Requirement already satisfied: pillow>=8 in c:\\users\\ray\\anaconda3\\lib\\site-packages (from matplotlib) (10.3.0)\n",
      "Requirement already satisfied: pyparsing>=2.3.1 in c:\\users\\ray\\anaconda3\\lib\\site-packages (from matplotlib) (3.0.9)\n",
      "Requirement already satisfied: scipy>=1.6.0 in c:\\users\\ray\\anaconda3\\lib\\site-packages (from scikit-learn) (1.13.1)\n",
      "Requirement already satisfied: joblib>=1.2.0 in c:\\users\\ray\\anaconda3\\lib\\site-packages (from scikit-learn) (1.4.2)\n",
      "Requirement already satisfied: threadpoolctl>=2.0.0 in c:\\users\\ray\\anaconda3\\lib\\site-packages (from scikit-learn) (2.2.0)\n",
      "Requirement already satisfied: six>=1.5 in c:\\users\\ray\\anaconda3\\lib\\site-packages (from python-dateutil>=2.8.2->pandas) (1.16.0)\n",
      "Requirement already satisfied: numpy in c:\\users\\ray\\anaconda3\\lib\\site-packages (1.26.4)\n",
      "Requirement already satisfied: pandas in c:\\users\\ray\\anaconda3\\lib\\site-packages (2.2.2)\n",
      "Requirement already satisfied: matplotlib in c:\\users\\ray\\anaconda3\\lib\\site-packages (3.8.4)\n",
      "Requirement already satisfied: scikit-learn in c:\\users\\ray\\anaconda3\\lib\\site-packages (1.4.2)\n",
      "Requirement already satisfied: python-dateutil>=2.8.2 in c:\\users\\ray\\anaconda3\\lib\\site-packages (from pandas) (2.9.0.post0)\n",
      "Requirement already satisfied: pytz>=2020.1 in c:\\users\\ray\\anaconda3\\lib\\site-packages (from pandas) (2024.1)\n",
      "Requirement already satisfied: tzdata>=2022.7 in c:\\users\\ray\\anaconda3\\lib\\site-packages (from pandas) (2023.3)\n",
      "Requirement already satisfied: contourpy>=1.0.1 in c:\\users\\ray\\anaconda3\\lib\\site-packages (from matplotlib) (1.2.0)\n",
      "Requirement already satisfied: cycler>=0.10 in c:\\users\\ray\\anaconda3\\lib\\site-packages (from matplotlib) (0.11.0)\n",
      "Requirement already satisfied: fonttools>=4.22.0 in c:\\users\\ray\\anaconda3\\lib\\site-packages (from matplotlib) (4.51.0)\n",
      "Requirement already satisfied: kiwisolver>=1.3.1 in c:\\users\\ray\\anaconda3\\lib\\site-packages (from matplotlib) (1.4.4)\n",
      "Requirement already satisfied: packaging>=20.0 in c:\\users\\ray\\anaconda3\\lib\\site-packages (from matplotlib) (23.2)\n",
      "Requirement already satisfied: pillow>=8 in c:\\users\\ray\\anaconda3\\lib\\site-packages (from matplotlib) (10.3.0)\n",
      "Requirement already satisfied: pyparsing>=2.3.1 in c:\\users\\ray\\anaconda3\\lib\\site-packages (from matplotlib) (3.0.9)\n",
      "Requirement already satisfied: scipy>=1.6.0 in c:\\users\\ray\\anaconda3\\lib\\site-packages (from scikit-learn) (1.13.1)\n",
      "Requirement already satisfied: joblib>=1.2.0 in c:\\users\\ray\\anaconda3\\lib\\site-packages (from scikit-learn) (1.4.2)\n",
      "Requirement already satisfied: threadpoolctl>=2.0.0 in c:\\users\\ray\\anaconda3\\lib\\site-packages (from scikit-learn) (2.2.0)\n",
      "Requirement already satisfied: six>=1.5 in c:\\users\\ray\\anaconda3\\lib\\site-packages (from python-dateutil>=2.8.2->pandas) (1.16.0)\n"
     ]
    }
   ],
   "source": [
    "!pip install numpy pandas matplotlib scikit-learn"
   ]
  },
  {
   "cell_type": "markdown",
   "metadata": {},
   "source": [
    "2. Ma'lumotlar bilan ishlash\n",
    "\n",
    "Dastlab, ma'lumotni tayyorlash va uni tahlil qilish kerak. Biz sodda misol sifatida reklama budjetiga qarab savdo hajmini bashorat qilamiz."
   ]
  },
  {
   "cell_type": "code",
   "execution_count": 3,
   "metadata": {},
   "outputs": [
    {
     "name": "stdout",
     "output_type": "stream",
     "text": [
      "   Reklama_budjeti  Savdo_hajmi\n",
      "0               20           15\n",
      "1               30           25\n",
      "2               50           35\n",
      "3               70           65\n",
      "4               90           85\n"
     ]
    }
   ],
   "source": [
    "import numpy as np\n",
    "import pandas as pd\n",
    "import matplotlib.pyplot as plt\n",
    "\n",
    "# Reklama budjeti va savdo hajmi bo'yicha oddiy ma'lumotlar to'plami\n",
    "data = {\n",
    "    'Reklama_budjeti': [20, 30, 50, 70, 90],\n",
    "    'Savdo_hajmi': [15, 25, 35, 65, 85]\n",
    "}\n",
    "\n",
    "# Ma'lumotlarni pandas DataFrame formatida yaratish\n",
    "df = pd.DataFrame(data)\n",
    "\n",
    "# Ma'lumotlarni ko'rish\n",
    "print(df)\n"
   ]
  },
  {
   "cell_type": "markdown",
   "metadata": {},
   "source": [
    "3. Ma'lumotlarni tayyorlash\n",
    "\n",
    "Modelga ma'lumotlarni kiritishdan oldin, ularni kirish ( X) va natija ( Y) qismlariga ajratish kerak. Bu qadamda X — reklama budjeti, Y esa savdo hajmi bo‘ladi."
   ]
  },
  {
   "cell_type": "code",
   "execution_count": 5,
   "metadata": {},
   "outputs": [
    {
     "name": "stdout",
     "output_type": "stream",
     "text": [
      "X (kirish) shakli: (5, 1)\n",
      "Y (natija) shakli: (5, 1)\n"
     ]
    }
   ],
   "source": [
    "# Kirish va chiqishlarni ajratib olish\n",
    "X = df['Reklama_budjeti'].values.reshape(-1, 1)  # X kirish (input)\n",
    "Y = df['Savdo_hajmi'].values.reshape(-1, 1)      # Y natija (output)\n",
    "\n",
    "# Ma'lumotlarning shakli\n",
    "print(f\"X (kirish) shakli: {X.shape}\")\n",
    "print(f\"Y (natija) shakli: {Y.shape}\")\n"
   ]
  },
  {
   "cell_type": "markdown",
   "metadata": {},
   "source": [
    "4. Lineer regression modelini yaratish\n",
    "\n",
    "Python'dagi scikit-learn kutubxonasida LineerRegression modeli mavjud. Uni ishlatib, modelni o‘rnatish va o‘rgatish juda oson."
   ]
  },
  {
   "cell_type": "code",
   "execution_count": 6,
   "metadata": {},
   "outputs": [
    {
     "name": "stdout",
     "output_type": "stream",
     "text": [
      "Og'irlik (W): [[1.00609756]]\n",
      "Kesish nuqtasi (b): [-7.31707317]\n"
     ]
    }
   ],
   "source": [
    "from sklearn.linear_model import LinearRegression\n",
    "\n",
    "# Modelni yaratish\n",
    "model = LinearRegression()\n",
    "\n",
    "# Modelni o'qitish (X va Y ma'lumotlar asosida)\n",
    "model.fit(X, Y)\n",
    "\n",
    "# Og'irlik (W) va burchak (b) qiymatlarini chiqarish\n",
    "print(f\"Og'irlik (W): {model.coef_}\")\n",
    "print(f\"Kesish nuqtasi (b): {model.intercept_}\")\n"
   ]
  },
  {
   "cell_type": "markdown",
   "metadata": {},
   "source": [
    "Bu yerda model.fit(X, Y) modelni o‘qitadi. Og‘irlik va kesish nuqtasi qiymatlari modelning to‘g‘ri chiziqli tenglamasini hosil qiladi:\n",
    "Y=WX+b\n",
    "Y=WX+b\n",
    "5. Bashorat qilish "
   ]
  },
  {
   "cell_type": "markdown",
   "metadata": {},
   "source": [
    "5. Bashorat qilish\n",
    "\n",
    "Model o‘qitilgandan keyin, biz yangi ma'lumotlar asosida savdo hajmini bashorat qilishimiz mumkin. Misol uchun, reklama budjeti 60 bo‘lsa, savdo hajmi qanday bo‘lishini ko‘ramiz."
   ]
  },
  {
   "cell_type": "code",
   "execution_count": 7,
   "metadata": {},
   "outputs": [
    {
     "name": "stdout",
     "output_type": "stream",
     "text": [
      "Reklama budjeti 60 bo'lganda savdo hajmi: 53.048780487804876\n"
     ]
    }
   ],
   "source": [
    "# Bashorat qilish\n",
    "new_budget = np.array([[60]])  # Yangi reklama budjeti\n",
    "predicted_sales = model.predict(new_budget)\n",
    "\n",
    "print(f\"Reklama budjeti {new_budget[0][0]} bo'lganda savdo hajmi: {predicted_sales[0][0]}\")\n"
   ]
  },
  {
   "cell_type": "markdown",
   "metadata": {},
   "source": [
    "6. Modelning natijalarini vizualizatsiya qilish\n",
    "\n",
    "Modelning qanday ishlayotganini yaxshi tushunish uchun ma'lumotlar va bashorat qilingan to‘g‘ri chiziqni grafik yordamida chizish mumkin."
   ]
  },
  {
   "cell_type": "code",
   "execution_count": 8,
   "metadata": {},
   "outputs": [
    {
     "data": {
      "image/png": "[encoded data removed]",
      "text/plain": [
       "<Figure size 640x480 with 1 Axes>"
      ]
     },
     "metadata": {},
     "output_type": "display_data"
    }
   ],
   "source": [
    "# Asl ma'lumotlarni chizish\n",
    "plt.scatter(X, Y, color='blue', label='Asl ma\\'lumotlar')\n",
    "\n",
    "# Bashorat qilingan chiziqni chizish\n",
    "plt.plot(X, model.predict(X), color='red', label='Bashorat qilingan chiziq')\n",
    "\n",
    "plt.title('Reklama Budjeti va Savdo Hajmi')\n",
    "plt.xlabel('Reklama Budjeti')\n",
    "plt.ylabel('Savdo Hajmi')\n",
    "plt.legend()\n",
    "plt.show()\n"
   ]
  },
  {
   "cell_type": "markdown",
   "metadata": {},
   "source": [
    "7. Modelning sifatini baholash\n",
    "\n",
    "Model qanchalik yaxshi ishlayotganini baholash uchun scikit-learn kutubxonasidagi R-squared ko‘rsatkichidan foydalanish mumkin. "
   ]
  },
  {
   "cell_type": "code",
   "execution_count": 9,
   "metadata": {},
   "outputs": [
    {
     "name": "stdout",
     "output_type": "stream",
     "text": [
      "Modelning aniqlik darajasi (R^2): 0.9765064562410329\n"
     ]
    }
   ],
   "source": [
    "# Modelning aniqlik darajasi (R^2)\n",
    "r_squared = model.score(X, Y)\n",
    "print(f\"Modelning aniqlik darajasi (R^2): {r_squared}\")\n"
   ]
  },
  {
   "cell_type": "markdown",
   "metadata": {},
   "source": [
    "Xulosa:\n",
    "\n",
    "Ushbu misol orqali lineer regression modelini yaratish jarayonini bosqichma-bosqich o‘rgandik:\n",
    "\n",
    "    Ma'lumotlarni tayyorlash.\n",
    "    Modelni yaratish va o‘qitish.\n",
    "    Bashorat qilish.\n",
    "    Natijalarni tahlil qilish va baholash.\n",
    "\n",
    "Bu oddiy misol, lekin Lineer Regression real hayotdagi ko‘plab bashorat va tahlil muammolarini hal qilishda foydali bo‘ladi."
   ]
  }
 ],
 "metadata": {
  "kernelspec": {
   "display_name": "Python 3",
   "language": "python",
   "name": "python3"
  },
  "language_info": {
   "codemirror_mode": {
    "name": "ipython",
    "version": 3
   },
   "file_extension": ".py",
   "mimetype": "text/x-python",
   "name": "python",
   "nbconvert_exporter": "python",
   "pygments_lexer": "ipython3",
   "version": "3.12.4"
  }
 },
 "nbformat": 4,
 "nbformat_minor": 2
}
